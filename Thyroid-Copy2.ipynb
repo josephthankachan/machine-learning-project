{
 "cells": [
  {
   "cell_type": "code",
   "execution_count": 8,
   "metadata": {},
   "outputs": [],
   "source": [
    "import warnings\n",
    "warnings.filterwarnings('ignore')"
   ]
  },
  {
   "cell_type": "code",
   "execution_count": 9,
   "metadata": {},
   "outputs": [],
   "source": [
    "%matplotlib notebook\n",
    "\n",
    "import matplotlib.pylab as plt\n",
    "import numpy as np\n",
    "from sklearn.decomposition import PCA\n",
    "from sklearn.model_selection import GridSearchCV\n",
    "from sklearn.pipeline import Pipeline\n",
    "from sklearn.model_selection import cross_val_score\n",
    "from sklearn.tree import DecisionTreeClassifier\n",
    "from sklearn.svm import SVC\n",
    "from sklearn.linear_model import RidgeClassifier,SGDClassifier\n",
    "from sklearn.model_selection import GridSearchCV\n",
    "from scipy.io import loadmat\n",
    "from sklearn.neighbors import KNeighborsClassifier\n",
    "from sklearn.neural_network import MLPClassifier\n",
    "\n",
    "\n",
    "filename=\"thyroidTrain.mat\"\n",
    "# Loading the dataset into X (inputs) and y (outputs)\n",
    "mat = loadmat(filename)\n",
    "Xtrain=mat[\"trainThyroidInput\"]\n",
    "Ytrain=mat[\"trainThyroidOutput\"]\n",
    "xtest=mat[\"testThyroidInput\"]\n",
    "Ytrain=np.argmax(Ytrain, axis=1)"
   ]
  },
  {
   "cell_type": "code",
   "execution_count": 10,
   "metadata": {},
   "outputs": [
    {
     "name": "stdout",
     "output_type": "stream",
     "text": [
      "Xtrain shape is (5000, 21)\n",
      "Ytrain shape is (5000,)\n",
      "xtest shape is (2200, 21)\n"
     ]
    }
   ],
   "source": [
    "print(\"Xtrain shape is {}\".format(Xtrain.shape))\n",
    "print(\"Ytrain shape is {}\".format(Ytrain.shape))\n",
    "print(\"xtest shape is {}\".format(xtest.shape))"
   ]
  },
  {
   "cell_type": "code",
   "execution_count": 11,
   "metadata": {},
   "outputs": [
    {
     "name": "stdout",
     "output_type": "stream",
     "text": [
      "Xtrain [[0.28 0.   1.   0.   0.  ]\n",
      " [0.45 0.   0.   0.   0.  ]\n",
      " [0.77 0.   0.   0.   0.  ]\n",
      " [0.72 0.   1.   0.   1.  ]\n",
      " [0.78 0.   0.   0.   0.  ]]\n",
      "Ytrain [2 2 2 2 2]\n",
      "xtest [[0.73 0.   0.   0.   0.  ]\n",
      " [0.6  0.   0.   0.   0.  ]\n",
      " [0.79 1.   0.   0.   0.  ]\n",
      " [0.26 0.   0.   0.   0.  ]\n",
      " [0.71 0.   0.   0.   0.  ]]\n"
     ]
    }
   ],
   "source": [
    "print(\"Xtrain\",Xtrain[0:5,0:5])\n",
    "print(\"Ytrain\",Ytrain[0:5])\n",
    "print(\"xtest\",xtest[0:5,0:5])\n"
   ]
  },
  {
   "cell_type": "code",
   "execution_count": 12,
   "metadata": {},
   "outputs": [
    {
     "name": "stdout",
     "output_type": "stream",
     "text": [
      "Xtrain [[0.1910307  0.         0.68225249 0.         0.        ]\n",
      " [0.89235067 0.         0.         0.         0.        ]\n",
      " [0.47498392 0.         0.         0.         0.        ]\n",
      " [0.4472743  0.         0.6212143  0.         0.6212143 ]\n",
      " [0.97192326 0.         0.         0.         0.        ]]\n"
     ]
    }
   ],
   "source": [
    "from sklearn import preprocessing\n",
    "Xtrain = preprocessing.normalize(Xtrain)\n",
    "print(\"Xtrain\",Xtrain[0:5,0:5])"
   ]
  },
  {
   "cell_type": "code",
   "execution_count": 6,
   "metadata": {},
   "outputs": [
    {
     "data": {
      "text/plain": [
       "{'Lin__alpha': 1, 'pca__n_components': 1}"
      ]
     },
     "execution_count": 6,
     "metadata": {},
     "output_type": "execute_result"
    }
   ],
   "source": [
    "pca = PCA()\n",
    "Lin=RidgeClassifier()\n",
    "pipe = Pipeline(steps=[('pca', pca), ('Lin', Lin)])\n",
    "param_grid = {'pca__n_components':range(1,10),\"Lin__alpha\":range(1,10)}\n",
    "grid_clf = GridSearchCV(pipe, param_grid,cv=10,refit=True,n_jobs=-1)\n",
    "grid_clf.fit(Xtrain, Ytrain)\n",
    "grid_clf.best_params_"
   ]
  },
  {
   "cell_type": "code",
   "execution_count": 7,
   "metadata": {},
   "outputs": [
    {
     "data": {
      "text/plain": [
       "{'KNeighborsRegressor__n_neighbors': 13,\n",
       " 'KNeighborsRegressor__weights': 'uniform',\n",
       " 'pca__n_components': 5}"
      ]
     },
     "execution_count": 7,
     "metadata": {},
     "output_type": "execute_result"
    }
   ],
   "source": [
    "pca = PCA()\n",
    "KNeighborsRegressor=KNeighborsClassifier()\n",
    "k_range = list(range(1,31))\n",
    "weight_options = [\"uniform\", \"distance\"]\n",
    "param_grid = {'pca__n_components':range(1,10),'KNeighborsRegressor__n_neighbors': k_range, 'KNeighborsRegressor__weights' : weight_options}\n",
    "pipe = Pipeline(steps=[('pca', pca), ('KNeighborsRegressor', KNeighborsRegressor)])\n",
    "grid_clf = GridSearchCV(pipe, param_grid,cv=10,refit=True,n_jobs=-1)\n",
    "grid_clf.fit(Xtrain, Ytrain)\n",
    "grid_clf.best_params_"
   ]
  },
  {
   "cell_type": "code",
   "execution_count": 8,
   "metadata": {},
   "outputs": [
    {
     "data": {
      "text/plain": [
       "{'SVR__C': 100,\n",
       " 'SVR__gamma': 'scale',\n",
       " 'SVR__kernel': 'rbf',\n",
       " 'pca__n_components': 9}"
      ]
     },
     "execution_count": 8,
     "metadata": {},
     "output_type": "execute_result"
    }
   ],
   "source": [
    "pca = PCA()\n",
    "SVR=SVC()\n",
    "param_grid={'pca__n_components':range(1,10),'SVR__C': [1, 10,100], 'SVR__kernel': ('rbf','poly','sigmoid','linear'),'SVR__gamma' : ('auto','scale')}\n",
    "pipe = Pipeline(steps=[('pca', pca), ('SVR',SVR)])\n",
    "grid_clf = GridSearchCV(pipe, param_grid,cv=10,refit=True,n_jobs=-1)\n",
    "grid_clf.fit(Xtrain, Ytrain)\n",
    "grid_clf.best_params_"
   ]
  },
  {
   "cell_type": "code",
   "execution_count": 9,
   "metadata": {},
   "outputs": [
    {
     "data": {
      "text/plain": [
       "{'SGD__alpha': 0.0001,\n",
       " 'SGD__eta0': 0.1,\n",
       " 'SGD__learning_rate': 'constant',\n",
       " 'SGD__loss': 'squared_loss',\n",
       " 'SGD__penalty': 'l2',\n",
       " 'pca__n_components': 1}"
      ]
     },
     "execution_count": 9,
     "metadata": {},
     "output_type": "execute_result"
    }
   ],
   "source": [
    "pca = PCA()\n",
    "SGD=SGDClassifier()\n",
    "param_grid={'pca__n_components':range(1,10),'SGD__alpha':[.0001,.001,1],'SGD__loss': ['squared_loss', 'huber', 'epsilon_insensitive'],'SGD__eta0':[0.1,0.2,0.01],\n",
    "    'SGD__penalty': ['l2', 'l1', 'elasticnet'],\n",
    "    'SGD__learning_rate': ['constant', 'optimal', 'invscaling']}\n",
    "pipe = Pipeline(steps=[('pca', pca), ('SGD',SGD)])\n",
    "grid_clf = GridSearchCV(pipe, param_grid,cv=10,refit=True,n_jobs=-1)\n",
    "grid_clf.fit(Xtrain, Ytrain)\n",
    "grid_clf.best_params_"
   ]
  },
  {
   "cell_type": "code",
   "execution_count": 10,
   "metadata": {},
   "outputs": [
    {
     "data": {
      "text/plain": [
       "{'pca__n_components': 7,\n",
       " 'tree__max_depth': 50,\n",
       " 'tree__max_leaf_nodes': 20,\n",
       " 'tree__min_samples_leaf': 20,\n",
       " 'tree__min_samples_split': 10}"
      ]
     },
     "execution_count": 10,
     "metadata": {},
     "output_type": "execute_result"
    }
   ],
   "source": [
    "pca = PCA()\n",
    "tree=DecisionTreeClassifier()\n",
    "param_grid={'pca__n_components':range(1,10),'tree__min_samples_split':  [10, 20, 40],'tree__min_samples_leaf':[20, 40, 100],'tree__max_depth':[2, 6, 8,10,50],'tree__max_leaf_nodes': [5, 20, 100]}\n",
    "pipe = Pipeline(steps=[('pca', pca), ('tree',tree)])\n",
    "grid_clf = GridSearchCV(pipe, param_grid,cv=10,refit=True,n_jobs=-1)\n",
    "grid_clf.fit(Xtrain, Ytrain)\n",
    "grid_clf.best_params_"
   ]
  },
  {
   "cell_type": "code",
   "execution_count": 16,
   "metadata": {},
   "outputs": [
    {
     "name": "stdout",
     "output_type": "stream",
     "text": [
      "accuracy 0.9254010200040801\n",
      "STD: 0.0008201756874977336\n",
      "Variance 6.726881583623799e-07\n"
     ]
    }
   ],
   "source": [
    "pca=PCA(n_components=1)\n",
    "principlecomponents=pca.fit_transform(Xtrain)\n",
    "\n",
    "scores=cross_val_score(RidgeClassifier(alpha=1), principlecomponents, Ytrain, cv=10,scoring=\"accuracy\")\n",
    "print(\"accuracy\",scores.mean())\n",
    "print(\"STD:\",scores.std())\n",
    "print(\"Variance\",scores.var())"
   ]
  },
  {
   "cell_type": "code",
   "execution_count": 17,
   "metadata": {},
   "outputs": [
    {
     "name": "stdout",
     "output_type": "stream",
     "text": [
      "accuracy 0.9309998335993341\n",
      "STD: 0.0030014103494368535\n",
      "Variance 9.008464085706654e-06\n"
     ]
    }
   ],
   "source": [
    "pca=PCA(n_components=5)\n",
    "principlecomponents=pca.fit_transform(Xtrain)\n",
    "\n",
    "scores=cross_val_score(KNeighborsClassifier(n_neighbors=13,weights=\"uniform\"), principlecomponents, Ytrain, cv=10,scoring=\"accuracy\")\n",
    "print(\"accuracy\",scores.mean())\n",
    "print(\"STD:\",scores.std())\n",
    "print(\"Variance\",scores.var())"
   ]
  },
  {
   "cell_type": "code",
   "execution_count": 18,
   "metadata": {},
   "outputs": [
    {
     "name": "stdout",
     "output_type": "stream",
     "text": [
      "accuracy 0.9343970391881568\n",
      "STD: 0.004499336641817846\n",
      "Variance 2.0244030216404687e-05\n"
     ]
    }
   ],
   "source": [
    "pca=PCA(n_components=9)\n",
    "principlecomponents=pca.fit_transform(Xtrain)\n",
    "\n",
    "scores=cross_val_score(SVC(C=100,gamma=\"scale\",kernel=\"rbf\"), principlecomponents, Ytrain, cv=10,scoring=\"accuracy\")\n",
    "print(\"accuracy\",scores.mean())\n",
    "print(\"STD:\",scores.std())\n",
    "print(\"Variance\",scores.var())"
   ]
  },
  {
   "cell_type": "code",
   "execution_count": 19,
   "metadata": {},
   "outputs": [
    {
     "name": "stdout",
     "output_type": "stream",
     "text": [
      "accuracy 0.9254010200040801\n",
      "STD: 0.0008201756874977336\n",
      "Variance 6.726881583623799e-07\n"
     ]
    }
   ],
   "source": [
    "pca=PCA(n_components=1)\n",
    "principlecomponents=pca.fit_transform(Xtrain)\n",
    "\n",
    "scores=cross_val_score(SGDClassifier(eta0=.1,alpha=0.0001,learning_rate=\"constant\",loss=\"squared_loss\",penalty=\"l2\"), principlecomponents, Ytrain, cv=10,scoring=\"accuracy\")\n",
    "print(\"accuracy\",scores.mean())\n",
    "print(\"STD:\",scores.std())\n",
    "print(\"Variance\",scores.var())\n"
   ]
  },
  {
   "cell_type": "code",
   "execution_count": 20,
   "metadata": {},
   "outputs": [
    {
     "name": "stdout",
     "output_type": "stream",
     "text": [
      "accuracy 0.9257954199816801\n",
      "STD: 0.005082768682953596\n",
      "Variance 2.5834537484413835e-05\n"
     ]
    }
   ],
   "source": [
    "pca=PCA(n_components=7)\n",
    "principlecomponents=pca.fit_transform(Xtrain)\n",
    "\n",
    "scores=cross_val_score(DecisionTreeClassifier(max_depth=50,max_leaf_nodes=20,min_samples_leaf=20,min_samples_split=10), principlecomponents, Ytrain, cv=10,scoring=\"accuracy\")\n",
    "print(\"accuracy\",scores.mean())\n",
    "print(\"STD:\",scores.std())\n",
    "print(\"Variance\",scores.var())"
   ]
  },
  {
   "cell_type": "code",
   "execution_count": null,
   "metadata": {},
   "outputs": [],
   "source": [
    "\"hidden_layer_sizes\": [(1,),(50,).(100,),(200,)], \"activation\": [\"identity\", \"logistic\", \"tanh\", \"relu\"], \"solver\": [\"lbfgs\", \"sgd\", \"adam\"], \"alpha\": [0.00005,0.0005,0.00001]"
   ]
  },
  {
   "cell_type": "code",
   "execution_count": 1,
   "metadata": {},
   "outputs": [],
   "source": [
    "pca = PCA()\n",
    "MLP=MLPClassifier()\n",
    "\n",
    "pipe=Pipeline(steps=[(\"pca\",pca),(\"MLP\",MLP)])\n",
    "param_grid = {'pca__n_components':range(1,15),\"MLP__hidden_layer_sizes\": [(500,),(1000,)], \"MLP__solver\": [\"lbfgs\", \"adam\"],\"MLP__activation\": [\"identity\", \"logistic\", \"tanh\", \"relu\"],\"MLP__alpha\": [0.00005]}\n",
    "\n",
    "grid_clf = GridSearchCV(pipe, param_grid,cv=10,refit=True,n_jobs=-1)\n",
    "grid_clf.fit(Xtrain, Ytrain)\n",
    "grid_clf.best_params_"
   ]
  },
  {
   "cell_type": "code",
   "execution_count": 7,
   "metadata": {},
   "outputs": [
    {
     "data": {
      "text/plain": [
       "{'MLP__activation': 'relu',\n",
       " 'MLP__alpha': 5e-05,\n",
       " 'MLP__hidden_layer_sizes': (50,),\n",
       " 'MLP__solver': 'lbfgs',\n",
       " 'pca__n_components': 4}"
      ]
     },
     "execution_count": 7,
     "metadata": {},
     "output_type": "execute_result"
    }
   ],
   "source": [
    "pca = PCA()\n",
    "MLP=MLPClassifier()\n",
    "\n",
    "pipe=Pipeline(steps=[(\"pca\",pca),(\"MLP\",MLP)])\n",
    "param_grid = {'pca__n_components':range(1,15),\"MLP__hidden_layer_sizes\": [(50,),(100,)], \"MLP__solver\": [\"lbfgs\"],\"MLP__activation\": [ \"relu\"],\"MLP__alpha\": [0.00005]}\n",
    "\n",
    "grid_clf = GridSearchCV(pipe, param_grid,cv=10,refit=True,n_jobs=-1)\n",
    "grid_clf.fit(Xtrain, Ytrain)\n",
    "grid_clf.best_params_"
   ]
  },
  {
   "cell_type": "code",
   "execution_count": null,
   "metadata": {},
   "outputs": [],
   "source": [
    "#No normalisation"
   ]
  },
  {
   "cell_type": "code",
   "execution_count": 11,
   "metadata": {},
   "outputs": [
    {
     "name": "stdout",
     "output_type": "stream",
     "text": [
      "accuracy 0.9698027288109152\n"
     ]
    }
   ],
   "source": [
    "MLP=MLPClassifier(hidden_layer_sizes=(50,),activation=\"relu\",solver=\"lbfgs\",alpha=0.00005)\n",
    "scores=cross_val_score(MLP,Xtrain, Ytrain, cv=10,scoring=\"accuracy\")\n",
    "print(\"accuracy\",scores.mean())"
   ]
  },
  {
   "cell_type": "code",
   "execution_count": 12,
   "metadata": {},
   "outputs": [
    {
     "name": "stdout",
     "output_type": "stream",
     "text": [
      "accuracy 0.9256014208056833\n"
     ]
    }
   ],
   "source": [
    "pca=PCA(n_components=4)\n",
    "pp=pca.fit_transform(Xtrain)\n",
    "MLP=MLPClassifier(hidden_layer_sizes=(50,),activation=\"relu\",solver=\"lbfgs\",alpha=0.00005)\n",
    "scores=cross_val_score(MLP,pp, Ytrain, cv=10,scoring=\"accuracy\")\n",
    "print(\"accuracy\",scores.mean())"
   ]
  },
  {
   "cell_type": "code",
   "execution_count": null,
   "metadata": {},
   "outputs": [],
   "source": [
    "# pca=PCA(n_components=4)\n",
    "# pp=pca.fit_transform(Xtrain)\n",
    "MLP=MLPClassifier(hidden_layer_sizes=(50,),activation=\"relu\",solver=\"lbfgs\",alpha=0.00005)\n",
    "scores=cross_val_score(grid_clf,Xtrain, Ytrain, cv=10,scoring=\"accuracy\")\n",
    "print(\"accuracy\",scores.mean())"
   ]
  },
  {
   "cell_type": "code",
   "execution_count": null,
   "metadata": {},
   "outputs": [],
   "source": [
    "#With normalisation"
   ]
  },
  {
   "cell_type": "code",
   "execution_count": 13,
   "metadata": {},
   "outputs": [
    {
     "name": "stdout",
     "output_type": "stream",
     "text": [
      "accuracy 0.9645991199964798\n"
     ]
    }
   ],
   "source": [
    "MLP=MLPClassifier(hidden_layer_sizes=(50,),activation=\"relu\",solver=\"lbfgs\",alpha=0.00005)\n",
    "scores=cross_val_score(MLP,Xtrain, Ytrain, cv=10,scoring=\"accuracy\")\n",
    "print(\"accuracy\",scores.mean())"
   ]
  },
  {
   "cell_type": "code",
   "execution_count": null,
   "metadata": {},
   "outputs": [],
   "source": []
  },
  {
   "cell_type": "code",
   "execution_count": null,
   "metadata": {},
   "outputs": [],
   "source": []
  },
  {
   "cell_type": "code",
   "execution_count": null,
   "metadata": {},
   "outputs": [],
   "source": []
  },
  {
   "cell_type": "code",
   "execution_count": null,
   "metadata": {},
   "outputs": [],
   "source": []
  },
  {
   "cell_type": "code",
   "execution_count": null,
   "metadata": {},
   "outputs": [],
   "source": []
  },
  {
   "cell_type": "code",
   "execution_count": null,
   "metadata": {},
   "outputs": [],
   "source": []
  },
  {
   "cell_type": "code",
   "execution_count": null,
   "metadata": {},
   "outputs": [],
   "source": []
  },
  {
   "cell_type": "code",
   "execution_count": null,
   "metadata": {},
   "outputs": [],
   "source": []
  },
  {
   "cell_type": "code",
   "execution_count": null,
   "metadata": {},
   "outputs": [],
   "source": []
  },
  {
   "cell_type": "code",
   "execution_count": null,
   "metadata": {},
   "outputs": [],
   "source": []
  },
  {
   "cell_type": "code",
   "execution_count": null,
   "metadata": {},
   "outputs": [],
   "source": []
  },
  {
   "cell_type": "code",
   "execution_count": null,
   "metadata": {},
   "outputs": [],
   "source": []
  }
 ],
 "metadata": {
  "kernelspec": {
   "display_name": "Python 3",
   "language": "python",
   "name": "python3"
  },
  "language_info": {
   "codemirror_mode": {
    "name": "ipython",
    "version": 3
   },
   "file_extension": ".py",
   "mimetype": "text/x-python",
   "name": "python",
   "nbconvert_exporter": "python",
   "pygments_lexer": "ipython3",
   "version": "3.7.4"
  }
 },
 "nbformat": 4,
 "nbformat_minor": 2
}
